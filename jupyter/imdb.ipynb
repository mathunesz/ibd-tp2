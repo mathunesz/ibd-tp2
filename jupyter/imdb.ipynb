{
 "cells": [
  {
   "cell_type": "markdown",
   "metadata": {},
   "source": [
    "<div style=\"font-family: georgia; margin-bottom: 20px\">\n",
    "<center>\n",
    "    <div>\n",
    "        <img src=\"https://encrypted-tbn0.gstatic.com/images?q=tbn%3AANd9GcS1BEVm6R4bs0V6Y_FPNFZMtOpihprZ6ABVVA-uI0sQs_yalcgK\" style=\"width:100px; position: absolute; left: 150px; top: 50px\">\n",
    "        <h1>Universidade de Minas Gerais - UFMG</h1>\n",
    "        <h2 style=\"margin-top: 10px\">Departamento de Ciência da Computação - DCC</h2>\n",
    "        <h2>DCC011 - Introdução a Banco de Dados</h2>\n",
    "        <br><br>\n",
    "        <h1>Trabalho Prático 02</h1>\n",
    "        <h2>Internet Movie Database - IMDB</h2>\n",
    "        <br>\n",
    "        <br>\n",
    "    </div>\n",
    "</center>\n",
    "        Fernanda Rocha de Morais Goncalves<br>Matheus Ibrahim Fonseca Magalhaes<br>Matheus Henrique Antunes Lima\n",
    "    </div>"
   ]
  },
  {
   "cell_type": "markdown",
   "metadata": {},
   "source": []
  },
  {
   "cell_type": "code",
   "execution_count": 1,
   "metadata": {},
   "outputs": [],
   "source": [
    "import io\n",
    "import sqlite3\n",
    "import pandas as pd\n",
    "import matplotlib.pyplot as plt\n",
    "import time"
   ]
  },
  {
   "cell_type": "code",
   "execution_count": 2,
   "metadata": {},
   "outputs": [],
   "source": [
    "conn = sqlite3.connect('../sqlite/imdb.db')\n",
    "cursor = conn.cursor()"
   ]
  },
  {
   "cell_type": "code",
   "execution_count": 5,
   "metadata": {},
   "outputs": [
    {
     "name": "stdout",
     "output_type": "stream",
     "text": [
      "                       Título Principal  Nota    Votos\n",
      "0              The Shawshank Redemption   9.3  2152571\n",
      "1                       The Dark Knight   9.0  2124670\n",
      "2                             Inception   8.8  1886650\n",
      "3                            Fight Club   8.8  1719582\n",
      "4                          Pulp Fiction   8.9  1689104\n",
      "..                                  ...   ...      ...\n",
      "95              Avengers: Age of Ultron   7.3   686664\n",
      "96  Captain America: The Winter Soldier   7.7   685394\n",
      "97                         The Hangover   7.7   680909\n",
      "98                          Gran Torino   8.1   680854\n",
      "99                             Scarface   8.3   680354\n",
      "\n",
      "[100 rows x 3 columns]\n",
      "--- 23.58300018310547 seconds ---\n"
     ]
    }
   ],
   "source": [
    "query = \"SELECT primary_title AS 'Título Principal', rating AS Nota, votes AS Votos FROM ratings NATURAL JOIN titles ORDER BY votes DESC LIMIT 100\"\n",
    "start_time = time.time()\n",
    "df = pd.read_sql_query(query, conn)\n",
    "print(df)\n",
    "print(\"--- %s seconds ---\" % (time.time() - start_time))"
   ]
  },
  {
   "cell_type": "code",
   "execution_count": 6,
   "metadata": {},
   "outputs": [
    {
     "name": "stdout",
     "output_type": "stream",
     "text": [
      "                                   Título Principal  Duração\n",
      "0                   Les Misérables, Part 2: Fantine      300\n",
      "1                            The Beloved Adventurer      450\n",
      "2                              The Hazards of Helen     1428\n",
      "3                 Lucille Love: The Girl of Mystery      300\n",
      "4                             The Perils of Pauline      199\n",
      "...                                             ...      ...\n",
      "7182                                 Jan Svankmajer      313\n",
      "7183                                 His Last Stand      990\n",
      "7184  A Classic Tour of Scotland: Footloose Special      151\n",
      "7185                                       Xenosaga      288\n",
      "7186                       Cali: ayer, hoy y mañana      250\n",
      "\n",
      "[7187 rows x 2 columns]\n",
      "--- 13.929370880126953 seconds ---\n"
     ]
    }
   ],
   "source": [
    "query = \"SELECT primary_title AS 'Título Principal', runtime_minutes as 'Duração' FROM titles WHERE type = 'movie' AND runtime_minutes > 150\"\n",
    "start_time = time.time()\n",
    "df = pd.read_sql_query(query, conn)\n",
    "print(df)\n",
    "print(\"--- %s seconds ---\" % (time.time() - start_time))"
   ]
  },
  {
   "cell_type": "code",
   "execution_count": 7,
   "metadata": {},
   "outputs": [
    {
     "name": "stdout",
     "output_type": "stream",
     "text": [
      "                                    Título Principal  Nota  Votos\n",
      "0                                The Maltese Phallus  10.0      5\n",
      "1                                 Girls Loving Girls  10.0      5\n",
      "2                                        Triple Seat  10.0      6\n",
      "3                                             Kirket  10.0    568\n",
      "4                              Vattamesha Sammelanam  10.0      5\n",
      "5                                               Home   9.9     17\n",
      "6                                   Der Kaktusgarten  10.0      6\n",
      "7                                         Mrs. Dally   9.9      9\n",
      "8                                           Die Möwe  10.0      5\n",
      "9                                  Mrs. Cheneys Ende  10.0      6\n",
      "10  Bei Tag und bei Nacht oder Der Hund des Gärtners  10.0      5\n",
      "11                                Die eiskalte Nacht  10.0      5\n",
      "12                      Das Glück sucht seine Kinder  10.0      5\n",
      "13                          Joan of Arc at the Stake   9.9     16\n",
      "14                                   Der letzte Raum  10.0      5\n",
      "15                                            Gideon   9.9      8\n",
      "16                                        Montserrat   9.9      7\n",
      "17                         Die Reise des Simon Feder  10.0      5\n",
      "18                     Arturo Benedetti Michelangeli  10.0      8\n",
      "19                                    Mister Barnett  10.0      5\n",
      "20                              Zwischenfall im Roxy  10.0      6\n",
      "21                Große Schmährede an der Stadtmauer  10.0      5\n",
      "22                               Tote ohne Begräbnis  10.0     13\n",
      "23                            Kein Ersatz für Perlen  10.0      5\n",
      "24                                   Fliegender Sand   9.9     12\n",
      "25                       Ein Weihnachtslied in Prosa  10.0      7\n",
      "26                                             Under  10.0      6\n",
      "27                                          Collapse  10.0     55\n",
      "28                               Leben im Hochwasser  10.0      5\n",
      "29                                  Platons Gastmahl  10.0      5\n",
      "30                                   Die gute Sieben   9.9     17\n",
      "31                                        Burza rada   9.9      9\n",
      "32                            Natjecaj za crnu pricu   9.9      9\n",
      "33      Simpósio Internacional de Escultura em Pedra  10.0      5\n",
      "34                                             Kvart   9.9     16\n",
      "35                    Potpisani 04 - Paja Shishkebab   9.9    143\n",
      "36                               Poios ti zoi mou...   9.9      7\n",
      "37        Potpisani 07: Garaza, osveta i jos ponesto   9.9      7\n",
      "38                 La bataille des droits de l'homme  10.0      5\n",
      "39                               Yours truly Roohani  10.0    164\n",
      "--- 7.576808214187622 seconds ---\n"
     ]
    }
   ],
   "source": [
    "query = \"SELECT primary_title AS 'Título Principal', rating AS 'Nota', votes AS 'Votos' FROM titles NATURAL JOIN ratings WHERE rating > 9.8 AND (type = 'movie' OR type = 'tvMovie')\"\n",
    "start_time = time.time()\n",
    "df = pd.read_sql_query(query, conn)\n",
    "print(df)\n",
    "print(\"--- %s seconds ---\" % (time.time() - start_time))"
   ]
  },
  {
   "cell_type": "code",
   "execution_count": 9,
   "metadata": {},
   "outputs": [
    {
     "name": "stdout",
     "output_type": "stream",
     "text": [
      "                Nome  Data de Nascimento  Quantidade\n",
      "0       Kirk Douglas                1916         182\n",
      "1       Raquel Welch                1940         107\n",
      "2        John Cleese                1939         313\n",
      "3          Brad Pitt                1963         152\n",
      "4        Woody Allen                1935         324\n",
      "...              ...                 ...         ...\n",
      "5520    Manu Sánchez                1985         116\n",
      "5521       Jan Macák                1997         783\n",
      "5522    Tomás Sedivý                1980         143\n",
      "5523  Zoltán Ceglédi                1979         119\n",
      "5524   Diana Belbita                1996         119\n",
      "\n",
      "[5525 rows x 3 columns]\n",
      "--- 224.16770219802856 seconds ---\n"
     ]
    }
   ],
   "source": [
    "query = \"SELECT name AS 'Nome', born AS 'Data de Nascimento', COUNT(*) AS 'Quantidade' FROM people NATURAL JOIN crew WHERE category = 'self' AND born <> 'NaN' AND died IS NULL GROUP BY person_id HAVING COUNT(*) > 100 ORDER BY 'Quantidade', 'Data de Nascimento'\"\n",
    "start_time = time.time()\n",
    "df = pd.read_sql_query(query, conn)\n",
    "print(df)\n",
    "print(\"--- %s seconds ---\" % (time.time() - start_time))"
   ]
  },
  {
   "cell_type": "code",
   "execution_count": null,
   "metadata": {},
   "outputs": [],
   "source": [
    "f = open('../output.html', 'w')\n",
    "f.write('<div class=\"table-responsive\" style=\"max-height: 400px; overflow-y: auto\"><table class=\"table\"><thead><tr>')\n",
    "f.write('<th scope=\"col\">Nome</th><th scope=\"col\">Data de Nascimento</th><th scope=\"col\">Nome</th></tr></thead><tbody>')\n",
    "for row in df.values:\n",
    "    f.write('<tr>')\n",
    "    for col in row:\n",
    "        f.write('<td>')\n",
    "        f.write(str(col))\n",
    "        f.write('</td>')\n",
    "    f.write('</tr>')\n",
    "f.write('</tbody></table></div>')\n",
    "f.close()"
   ]
  },
  {
   "cell_type": "code",
   "execution_count": null,
   "metadata": {},
   "outputs": [],
   "source": [
    "query = \"SELECT name AS 'Nome', born AS 'Data de Nascimento' FROM crew NATURAL JOIN people WHERE born <> 'NaN'AND category = 'producer' GROUP BY person_id ORDER BY 'Data de Nascimento' DESC LIMIT 5\"\n",
    "start_time = time.time()\n",
    "df = pd.read_sql_query(query, conn)\n",
    "print(df)\n",
    "print(\"--- %s seconds ---\" % (time.time() - start_time))"
   ]
  },
  {
   "cell_type": "code",
   "execution_count": null,
   "metadata": {},
   "outputs": [],
   "source": [
    "f = open('../output.html', 'w')\n",
    "f.write('<div class=\"table-responsive\" style=\"max-height: 400px; overflow-y: auto\"><table class=\"table\"><thead><tr>')\n",
    "for col in df.columns:\n",
    "    f.write('<th scope=\"col\">')\n",
    "    f.write(str(col))\n",
    "    f.write('</th>')\n",
    "f.write('</tr></thead><tbody>')\n",
    "for row in df.values:\n",
    "    f.write('<tr>')\n",
    "    for col in row:\n",
    "        f.write('<td>')\n",
    "        f.write(str(col))\n",
    "        f.write('</td>')\n",
    "    f.write('</tr>')\n",
    "f.write('</tbody></table></div>')\n",
    "f.close()"
   ]
  },
  {
   "cell_type": "code",
   "execution_count": null,
   "metadata": {},
   "outputs": [],
   "source": [
    "query = \"SELECT primary_title AS 'Título Principal' FROM titles NATURAL JOIN akas WHERE title_id IN (SELECT title_id FROM titles JOIN episodes ON title_id = show_title_id WHERE type = 'tvSeries' AND ended = premiered + 1 GROUP BY title_id HAVING MAX(season_number) = 1) GROUP BY title_id HAVING COUNT(language)  > 5\"\n",
    "start_time = time.time()\n",
    "df = pd.read_sql_query(query, conn)\n",
    "print(df)\n",
    "print(\"--- %s seconds ---\" % (time.time() - start_time))"
   ]
  },
  {
   "cell_type": "code",
   "execution_count": null,
   "metadata": {},
   "outputs": [],
   "source": []
  }
 ],
 "metadata": {
  "kernelspec": {
   "display_name": "Python 3",
   "language": "python",
   "name": "python3"
  },
  "language_info": {
   "codemirror_mode": {
    "name": "ipython",
    "version": 3
   },
   "file_extension": ".py",
   "mimetype": "text/x-python",
   "name": "python",
   "nbconvert_exporter": "python",
   "pygments_lexer": "ipython3",
   "version": "3.7.4"
  }
 },
 "nbformat": 4,
 "nbformat_minor": 2
}
