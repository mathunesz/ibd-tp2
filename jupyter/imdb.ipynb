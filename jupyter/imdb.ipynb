{
 "cells": [
  {
   "cell_type": "markdown",
   "metadata": {},
   "source": [
    "<div style=\"font-family: georgia; margin-bottom: 20px\">\n",
    "<center>\n",
    "    <div>\n",
    "        <img src=\"https://encrypted-tbn0.gstatic.com/images?q=tbn%3AANd9GcS1BEVm6R4bs0V6Y_FPNFZMtOpihprZ6ABVVA-uI0sQs_yalcgK\" style=\"width:100px; position: absolute; left: 150px; top: 50px\">\n",
    "        <h1>Universidade de Minas Gerais - UFMG</h1>\n",
    "        <h2 style=\"margin-top: 10px\">Departamento de Ciência da Computação - DCC</h2>\n",
    "        <h2>DCC011 - Introdução a Banco de Dados</h2>\n",
    "        <br><br>\n",
    "        <h1>Trabalho Prático 02</h1>\n",
    "        <h2>Internet Movie Database - IMDB</h2>\n",
    "        <br>\n",
    "        <br>\n",
    "    </div>\n",
    "</center>\n",
    "        Fernanda Rocha de Morais Goncalves<br>Matheus Ibrahim Fonseca Magalhaes<br>Matheus Henrique Antunes Lima\n",
    "    </div>"
   ]
  },
  {
   "cell_type": "markdown",
   "metadata": {},
   "source": []
  },
  {
   "cell_type": "code",
   "execution_count": 1,
   "metadata": {},
   "outputs": [],
   "source": [
    "import io\n",
    "import sqlite3\n",
    "import pandas as pd\n",
    "import matplotlib.pyplot as plt\n",
    "import time"
   ]
  },
  {
   "cell_type": "code",
   "execution_count": 2,
   "metadata": {},
   "outputs": [],
   "source": [
    "conn = sqlite3.connect('../sqlite/imdb.db')\n",
    "cursor = conn.cursor()"
   ]
  },
  {
   "cell_type": "code",
   "execution_count": null,
   "metadata": {},
   "outputs": [],
   "source": [
    "query = \"SELECT name as 'Nome', born as 'Data de Nascimento' FROM crew NATURAL JOIN people WHERE born <> 'NaN' AND category = 'producer' GROUP BY person_id ORDER BY born DESC LIMIT 5\"\n",
    "start_time = time.time()\n",
    "df = pd.read_sql_query(query, conn)\n",
    "print(df)\n",
    "print(\"--- %s seconds ---\" % (time.time() - start_time))"
   ]
  },
  {
   "cell_type": "code",
   "execution_count": null,
   "metadata": {},
   "outputs": [],
   "source": [
    "f = open('../output.html', 'w')\n",
    "f.write('<table class=\"table\"><thead><tr>')\n",
    "for col in df.columns:\n",
    "    f.write('<th scope=\"col\">')\n",
    "    f.write(str(col))\n",
    "    f.write('</th>')\n",
    "f.write('</tr></thead><tbody>')\n",
    "for row in df.values:\n",
    "    f.write('<tr>')\n",
    "    for col in row:\n",
    "        f.write('<td>')\n",
    "        f.write(str(col))\n",
    "        f.write('</td>')\n",
    "    f.write('</tr>')\n",
    "f.write('</tbody></table>')\n",
    "f.close()"
   ]
  },
  {
   "cell_type": "code",
   "execution_count": null,
   "metadata": {},
   "outputs": [],
   "source": []
  }
 ],
 "metadata": {
  "kernelspec": {
   "display_name": "Python 3",
   "language": "python",
   "name": "python3"
  },
  "language_info": {
   "codemirror_mode": {
    "name": "ipython",
    "version": 3
   },
   "file_extension": ".py",
   "mimetype": "text/x-python",
   "name": "python",
   "nbconvert_exporter": "python",
   "pygments_lexer": "ipython3",
   "version": "3.7.4"
  }
 },
 "nbformat": 4,
 "nbformat_minor": 2
}
